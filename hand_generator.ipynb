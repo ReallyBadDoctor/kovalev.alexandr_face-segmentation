{
 "cells": [
  {
   "cell_type": "code",
   "execution_count": 152,
   "id": "67e29471",
   "metadata": {},
   "outputs": [],
   "source": [
    "import cv2\n",
    "import numpy as np\n",
    "import random"
   ]
  },
  {
   "cell_type": "code",
   "execution_count": 148,
   "id": "0256cf20",
   "metadata": {},
   "outputs": [
    {
     "data": {
      "text/plain": [
       "392"
      ]
     },
     "execution_count": 148,
     "metadata": {},
     "output_type": "execute_result"
    }
   ],
   "source": [
    "from os import listdir\n",
    "from os.path import isfile, join\n",
    "mypath = 'selected'\n",
    "files = [f for f in listdir(mypath) if isfile(join(mypath, f))]\n",
    "len(files)"
   ]
  },
  {
   "cell_type": "code",
   "execution_count": 160,
   "id": "b481c575",
   "metadata": {},
   "outputs": [],
   "source": [
    "counter = 0\n",
    "for _ in range(15): \n",
    "    for i in range(0, len(files), 2):\n",
    "        image = cv2.imread(join(mypath, files[i]))\n",
    "        image_mask = cv2.imread(join(mypath, files[i+1]), cv2.IMREAD_GRAYSCALE)\n",
    "        \n",
    "        if _ // 5 == 0: \n",
    "            image = cv2.rotate(image, cv2.ROTATE_90_CLOCKWISE)\n",
    "            image_mask = cv2.rotate(image_mask, cv2.ROTATE_90_CLOCKWISE)\n",
    "        elif _ // 5 == 1:\n",
    "            image = cv2.rotate(image, cv2.ROTATE_90_COUNTERCLOCKWISE)\n",
    "            image_mask = cv2.rotate(image_mask, cv2.ROTATE_90_COUNTERCLOCKWISE)\n",
    "        else: \n",
    "            image = cv2.rotate(image, cv2.ROTATE_180)\n",
    "            image_mask = cv2.rotate(image_mask, cv2.ROTATE_180)\n",
    "        \n",
    "        image = cv2.resize(image, (500, 416))\n",
    "        image_mask = cv2.resize(image_mask, (500, 416))\n",
    "        image_mask[image_mask < 255] = 0\n",
    "        image[image_mask == 0] = 0\n",
    "        \n",
    "        rand = random.randint(0, 29999)\n",
    "        celeb = cv2.imread('CelebAMask-HQ/CelebA-HQ-img/'+ str(rand) + '.jpg')\n",
    "        celeb_mask = cv2.imread('CelebAMask-HQ/mask/'+ str(rand) + '.png')\n",
    "        \n",
    "        helper = np.zeros((1024, 1024, 3))\n",
    "        helper_mask = np.zeros((1024, 1024))\n",
    "        a = np.array([0., 0., 0.])\n",
    "        \n",
    "        randx = random.randint(0, 607)\n",
    "        randy = random.randint(0, 523)\n",
    "        helper[randx:randx+416, randy:randy+500] = image \n",
    "        for i in range(len(helper)): \n",
    "            for j in range(len(helper[i])): \n",
    "                b = helper[i][j] == a\n",
    "                if b[0] and b[1] and b[2]: \n",
    "                    helper[i][j] = celeb[i][j]\n",
    "                elif not b[0] and not b[1] and not b[2]: \n",
    "                    helper_mask[i][j] = 255\n",
    "        helper_mask = cv2.resize(helper_mask, (512, 512), interpolation=cv2.INTER_LINEAR)\n",
    "        helper_mask[helper_mask  < 255] = 0\n",
    "        \n",
    "        celeb_mask[helper_mask == 255] = 0\n",
    "        cv2.imwrite('CelebAMask-HQ/CelebA-hand/' + str(counter) + '.jpg', helper)\n",
    "        cv2.imwrite('CelebAMask-HQ/mask-hand/' + str(counter) + '.jpg', celeb_mask)\n",
    "        counter += 1"
   ]
  },
  {
   "cell_type": "code",
   "execution_count": null,
   "id": "d366892e",
   "metadata": {},
   "outputs": [],
   "source": []
  }
 ],
 "metadata": {
  "kernelspec": {
   "display_name": "Python 3 (ipykernel)",
   "language": "python",
   "name": "python3"
  },
  "language_info": {
   "codemirror_mode": {
    "name": "ipython",
    "version": 3
   },
   "file_extension": ".py",
   "mimetype": "text/x-python",
   "name": "python",
   "nbconvert_exporter": "python",
   "pygments_lexer": "ipython3",
   "version": "3.9.13"
  }
 },
 "nbformat": 4,
 "nbformat_minor": 5
}
